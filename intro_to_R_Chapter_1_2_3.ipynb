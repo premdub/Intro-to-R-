{
  "nbformat": 4,
  "nbformat_minor": 0,
  "metadata": {
    "colab": {
      "provenance": [],
      "collapsed_sections": [],
      "authorship_tag": "ABX9TyN2NOLT6Dd7/K6CXR+cpAEi",
      "include_colab_link": true
    },
    "kernelspec": {
      "name": "ir",
      "display_name": "R"
    },
    "language_info": {
      "name": "R"
    }
  },
  "cells": [
    {
      "cell_type": "markdown",
      "metadata": {
        "id": "view-in-github",
        "colab_type": "text"
      },
      "source": [
        "<a href=\"https://colab.research.google.com/github/premdub/Intro-to-R-/blob/main/intro_to_R_Chapter_1_2_3.ipynb\" target=\"_parent\"><img src=\"https://colab.research.google.com/assets/colab-badge.svg\" alt=\"Open In Colab\"/></a>"
      ]
    },
    {
      "cell_type": "code",
      "execution_count": 95,
      "metadata": {
        "id": "Yx5OILwFTsVI",
        "colab": {
          "base_uri": "https://localhost:8080/"
        },
        "outputId": "5735478b-8e58-485a-cc07-18d5edf51f54"
      },
      "outputs": [
        {
          "output_type": "stream",
          "name": "stderr",
          "text": [
            "Installing package into ‘/usr/local/lib/R/site-library’\n",
            "(as ‘lib’ is unspecified)\n",
            "\n"
          ]
        }
      ],
      "source": [
        " install.packages('IRkernel') "
      ]
    },
    {
      "cell_type": "code",
      "source": [
        "IRkernel::installspec()"
      ],
      "metadata": {
        "id": "Daqi67cEUFQh"
      },
      "execution_count": 96,
      "outputs": []
    },
    {
      "cell_type": "code",
      "source": [
        "library(tidyverse)"
      ],
      "metadata": {
        "id": "5djkcqAdUnA9"
      },
      "execution_count": 97,
      "outputs": []
    },
    {
      "cell_type": "code",
      "source": [
        "x <- 12"
      ],
      "metadata": {
        "id": "AOnuJiX3Vdb9"
      },
      "execution_count": 98,
      "outputs": []
    },
    {
      "cell_type": "code",
      "source": [
        "# create vector of integers from 0 to 9\n",
        "some_numbers <- c(0,1,2,3,4,5,6,7,8,9)\n",
        "\n",
        "# alternatively \n",
        "some_numbers <- c(0:9)"
      ],
      "metadata": {
        "id": "66P6IPlZVjPe"
      },
      "execution_count": 99,
      "outputs": []
    },
    {
      "cell_type": "code",
      "source": [
        "some_numbers"
      ],
      "metadata": {
        "id": "pr64BUxdVnVQ",
        "colab": {
          "base_uri": "https://localhost:8080/",
          "height": 34
        },
        "outputId": "30a480ad-e6f6-4247-fbfe-e0fa01807148"
      },
      "execution_count": 100,
      "outputs": [
        {
          "output_type": "display_data",
          "data": {
            "text/html": [
              "<style>\n",
              ".list-inline {list-style: none; margin:0; padding: 0}\n",
              ".list-inline>li {display: inline-block}\n",
              ".list-inline>li:not(:last-child)::after {content: \"\\00b7\"; padding: 0 .5ex}\n",
              "</style>\n",
              "<ol class=list-inline><li>0</li><li>1</li><li>2</li><li>3</li><li>4</li><li>5</li><li>6</li><li>7</li><li>8</li><li>9</li></ol>\n"
            ],
            "text/markdown": "1. 0\n2. 1\n3. 2\n4. 3\n5. 4\n6. 5\n7. 6\n8. 7\n9. 8\n10. 9\n\n\n",
            "text/latex": "\\begin{enumerate*}\n\\item 0\n\\item 1\n\\item 2\n\\item 3\n\\item 4\n\\item 5\n\\item 6\n\\item 7\n\\item 8\n\\item 9\n\\end{enumerate*}\n",
            "text/plain": [
              " [1] 0 1 2 3 4 5 6 7 8 9"
            ]
          },
          "metadata": {}
        }
      ]
    },
    {
      "cell_type": "code",
      "source": [
        "mean(some_numbers)"
      ],
      "metadata": {
        "id": "jyh4Rl-qVnSR",
        "colab": {
          "base_uri": "https://localhost:8080/",
          "height": 34
        },
        "outputId": "6d006998-9f6d-436b-d43f-3e95871816a7"
      },
      "execution_count": 101,
      "outputs": [
        {
          "output_type": "display_data",
          "data": {
            "text/html": [
              "4.5"
            ],
            "text/markdown": "4.5",
            "text/latex": "4.5",
            "text/plain": [
              "[1] 4.5"
            ]
          },
          "metadata": {}
        }
      ]
    },
    {
      "cell_type": "code",
      "source": [
        "library(tidyverse)"
      ],
      "metadata": {
        "id": "GFvmbKWaVnOT"
      },
      "execution_count": 102,
      "outputs": []
    },
    {
      "cell_type": "code",
      "source": [
        "paygap <- read.csv('/content/data/paygap.csv', header = TRUE)"
      ],
      "metadata": {
        "id": "ePN2cG58VnJF"
      },
      "execution_count": 103,
      "outputs": []
    },
    {
      "cell_type": "code",
      "source": [
        "head(paygap, n = 5)"
      ],
      "metadata": {
        "id": "VXPMxtp2VnBe",
        "colab": {
          "base_uri": "https://localhost:8080/",
          "height": 709
        },
        "outputId": "498eec44-a07a-4df0-b810-30b01401aeaf"
      },
      "execution_count": 104,
      "outputs": [
        {
          "output_type": "display_data",
          "data": {
            "text/html": [
              "<table class=\"dataframe\">\n",
              "<caption>A data.frame: 5 × 27</caption>\n",
              "<thead>\n",
              "\t<tr><th></th><th scope=col>EmployerName</th><th scope=col>EmployerId</th><th scope=col>Address</th><th scope=col>PostCode</th><th scope=col>CompanyNumber</th><th scope=col>SicCodes</th><th scope=col>DiffMeanHourlyPercent</th><th scope=col>DiffMedianHourlyPercent</th><th scope=col>DiffMeanBonusPercent</th><th scope=col>DiffMedianBonusPercent</th><th scope=col>⋯</th><th scope=col>FemaleUpperMiddleQuartile</th><th scope=col>MaleTopQuartile</th><th scope=col>FemaleTopQuartile</th><th scope=col>CompanyLinkToGPGInfo</th><th scope=col>ResponsiblePerson</th><th scope=col>EmployerSize</th><th scope=col>CurrentName</th><th scope=col>SubmittedAfterTheDeadline</th><th scope=col>DueDate</th><th scope=col>DateSubmitted</th></tr>\n",
              "\t<tr><th></th><th scope=col>&lt;chr&gt;</th><th scope=col>&lt;int&gt;</th><th scope=col>&lt;chr&gt;</th><th scope=col>&lt;chr&gt;</th><th scope=col>&lt;chr&gt;</th><th scope=col>&lt;chr&gt;</th><th scope=col>&lt;dbl&gt;</th><th scope=col>&lt;dbl&gt;</th><th scope=col>&lt;dbl&gt;</th><th scope=col>&lt;dbl&gt;</th><th scope=col>⋯</th><th scope=col>&lt;dbl&gt;</th><th scope=col>&lt;dbl&gt;</th><th scope=col>&lt;dbl&gt;</th><th scope=col>&lt;chr&gt;</th><th scope=col>&lt;chr&gt;</th><th scope=col>&lt;chr&gt;</th><th scope=col>&lt;chr&gt;</th><th scope=col>&lt;lgl&gt;</th><th scope=col>&lt;chr&gt;</th><th scope=col>&lt;chr&gt;</th></tr>\n",
              "</thead>\n",
              "<tbody>\n",
              "\t<tr><th scope=row>1</th><td>A.J.N. STEELSTOCK LTD.                        </td><td>14835</td><td>Icknield Way, Kentford, Newmarket, Suffolk, CB8 7QT                                   </td><td>CB8 7QT </td><td>689647 </td><td>46720    </td><td>16.2</td><td>  3.3</td><td>-20.0</td><td>  0.0</td><td>⋯</td><td>10.8</td><td>87.1</td><td>12.9</td><td>https://www.ajnsteelstock.co.uk/wp-content/uploads/2022/10/2022-Gender-Pay-Gap-Report.pdf</td><td>Courtney Bell (FD)              </td><td>250 to 499  </td><td>A.J.N. STEELSTOCK LTD.                        </td><td>FALSE</td><td>4/5/2023 0:00 </td><td>10/11/2022 15:34</td></tr>\n",
              "\t<tr><th scope=row>2</th><td>AB WORLD FOODS LIMITED                        </td><td>  764</td><td>Weston Centre, 10 Grosvenor Street, London, W1K 4QY                                   </td><td>W1K 4QY </td><td>1400901</td><td>10890    </td><td>-8.6</td><td>-12.3</td><td> 10.3</td><td>-20.8</td><td>⋯</td><td>33.7</td><td>44.6</td><td>55.4</td><td>https://abworldfoods.com/documents/ABWF_Gender_Pay_Gap_Narrative_2022.pdf                </td><td>Andy Mayhew (Managing Director) </td><td>250 to 499  </td><td>AB WORLD FOODS LIMITED                        </td><td>FALSE</td><td>4/5/2023 0:00 </td><td>9/30/2022 9:45  </td></tr>\n",
              "\t<tr><th scope=row>3</th><td>ABACUS EMPLOYMENT SERVICES LIMITED            </td><td>  767</td><td>1 Chequers Road, Basingstoke, Hampshire, England, RG21 7PU                            </td><td>RG21 7PU</td><td>2638307</td><td>78200    </td><td>-3.0</td><td>  3.2</td><td>   NA</td><td>   NA</td><td>⋯</td><td>21.5</td><td>80.9</td><td>19.1</td><td>http://www.abacus-employment.com                                                         </td><td>Phil James (Finance Manager)    </td><td>250 to 499  </td><td>ABACUS EMPLOYMENT SERVICES LIMITED            </td><td>FALSE</td><td>4/5/2023 0:00 </td><td>4/13/2022 14:57 </td></tr>\n",
              "\t<tr><th scope=row>4</th><td>Advisory, Conciliation and Arbitration Service</td><td>  496</td><td>8th Floor, Windsor House, 50 Victoria Street, London, London, United Kingdom, SW1H 0TL</td><td>SW1H 0TL</td><td>       </td><td>1,\n",
              "84110</td><td> 7.2</td><td>  6.1</td><td> 19.4</td><td>  9.9</td><td>⋯</td><td>63.2</td><td>51.8</td><td>48.2</td><td>https://www.acas.org.uk/acas-gender-pay-report/2021-to-2022-report                       </td><td>                                </td><td>1000 to 4999</td><td>Advisory, Conciliation and Arbitration Service</td><td>FALSE</td><td>3/31/2023 0:00</td><td>8/1/2022 13:15  </td></tr>\n",
              "\t<tr><th scope=row>5</th><td>AFH INDEPENDENT FINANCIAL SERVICES LIMITED    </td><td>19364</td><td>Afh House Buntsford Drive, Stoke Heath, Bromsgrove, Worcestershire, B60 4JE           </td><td>B60 4JE </td><td>4049180</td><td>64999    </td><td>25.0</td><td> 32.0</td><td>-33.0</td><td> 69.0</td><td>⋯</td><td>59.0</td><td>60.0</td><td>40.0</td><td>                                                                                         </td><td>Alison Court (Senior HR Adviser)</td><td>500 to 999  </td><td>AFH INDEPENDENT FINANCIAL SERVICES LIMITED    </td><td>FALSE</td><td>4/5/2023 0:00 </td><td>5/20/2022 11:24 </td></tr>\n",
              "</tbody>\n",
              "</table>\n"
            ],
            "text/markdown": "\nA data.frame: 5 × 27\n\n| <!--/--> | EmployerName &lt;chr&gt; | EmployerId &lt;int&gt; | Address &lt;chr&gt; | PostCode &lt;chr&gt; | CompanyNumber &lt;chr&gt; | SicCodes &lt;chr&gt; | DiffMeanHourlyPercent &lt;dbl&gt; | DiffMedianHourlyPercent &lt;dbl&gt; | DiffMeanBonusPercent &lt;dbl&gt; | DiffMedianBonusPercent &lt;dbl&gt; | ⋯ ⋯ | FemaleUpperMiddleQuartile &lt;dbl&gt; | MaleTopQuartile &lt;dbl&gt; | FemaleTopQuartile &lt;dbl&gt; | CompanyLinkToGPGInfo &lt;chr&gt; | ResponsiblePerson &lt;chr&gt; | EmployerSize &lt;chr&gt; | CurrentName &lt;chr&gt; | SubmittedAfterTheDeadline &lt;lgl&gt; | DueDate &lt;chr&gt; | DateSubmitted &lt;chr&gt; |\n|---|---|---|---|---|---|---|---|---|---|---|---|---|---|---|---|---|---|---|---|---|---|\n| 1 | A.J.N. STEELSTOCK LTD.                         | 14835 | Icknield Way, Kentford, Newmarket, Suffolk, CB8 7QT                                    | CB8 7QT  | 689647  | 46720     | 16.2 |   3.3 | -20.0 |   0.0 | ⋯ | 10.8 | 87.1 | 12.9 | https://www.ajnsteelstock.co.uk/wp-content/uploads/2022/10/2022-Gender-Pay-Gap-Report.pdf | Courtney Bell (FD)               | 250 to 499   | A.J.N. STEELSTOCK LTD.                         | FALSE | 4/5/2023 0:00  | 10/11/2022 15:34 |\n| 2 | AB WORLD FOODS LIMITED                         |   764 | Weston Centre, 10 Grosvenor Street, London, W1K 4QY                                    | W1K 4QY  | 1400901 | 10890     | -8.6 | -12.3 |  10.3 | -20.8 | ⋯ | 33.7 | 44.6 | 55.4 | https://abworldfoods.com/documents/ABWF_Gender_Pay_Gap_Narrative_2022.pdf                 | Andy Mayhew (Managing Director)  | 250 to 499   | AB WORLD FOODS LIMITED                         | FALSE | 4/5/2023 0:00  | 9/30/2022 9:45   |\n| 3 | ABACUS EMPLOYMENT SERVICES LIMITED             |   767 | 1 Chequers Road, Basingstoke, Hampshire, England, RG21 7PU                             | RG21 7PU | 2638307 | 78200     | -3.0 |   3.2 |    NA |    NA | ⋯ | 21.5 | 80.9 | 19.1 | http://www.abacus-employment.com                                                          | Phil James (Finance Manager)     | 250 to 499   | ABACUS EMPLOYMENT SERVICES LIMITED             | FALSE | 4/5/2023 0:00  | 4/13/2022 14:57  |\n| 4 | Advisory, Conciliation and Arbitration Service |   496 | 8th Floor, Windsor House, 50 Victoria Street, London, London, United Kingdom, SW1H 0TL | SW1H 0TL | <!----> | 1,\n84110 |  7.2 |   6.1 |  19.4 |   9.9 | ⋯ | 63.2 | 51.8 | 48.2 | https://www.acas.org.uk/acas-gender-pay-report/2021-to-2022-report                        | <!----> | 1000 to 4999 | Advisory, Conciliation and Arbitration Service | FALSE | 3/31/2023 0:00 | 8/1/2022 13:15   |\n| 5 | AFH INDEPENDENT FINANCIAL SERVICES LIMITED     | 19364 | Afh House Buntsford Drive, Stoke Heath, Bromsgrove, Worcestershire, B60 4JE            | B60 4JE  | 4049180 | 64999     | 25.0 |  32.0 | -33.0 |  69.0 | ⋯ | 59.0 | 60.0 | 40.0 | <!----> | Alison Court (Senior HR Adviser) | 500 to 999   | AFH INDEPENDENT FINANCIAL SERVICES LIMITED     | FALSE | 4/5/2023 0:00  | 5/20/2022 11:24  |\n\n",
            "text/latex": "A data.frame: 5 × 27\n\\begin{tabular}{r|lllllllllllllllllllll}\n  & EmployerName & EmployerId & Address & PostCode & CompanyNumber & SicCodes & DiffMeanHourlyPercent & DiffMedianHourlyPercent & DiffMeanBonusPercent & DiffMedianBonusPercent & ⋯ & FemaleUpperMiddleQuartile & MaleTopQuartile & FemaleTopQuartile & CompanyLinkToGPGInfo & ResponsiblePerson & EmployerSize & CurrentName & SubmittedAfterTheDeadline & DueDate & DateSubmitted\\\\\n  & <chr> & <int> & <chr> & <chr> & <chr> & <chr> & <dbl> & <dbl> & <dbl> & <dbl> & ⋯ & <dbl> & <dbl> & <dbl> & <chr> & <chr> & <chr> & <chr> & <lgl> & <chr> & <chr>\\\\\n\\hline\n\t1 & A.J.N. STEELSTOCK LTD.                         & 14835 & Icknield Way, Kentford, Newmarket, Suffolk, CB8 7QT                                    & CB8 7QT  & 689647  & 46720     & 16.2 &   3.3 & -20.0 &   0.0 & ⋯ & 10.8 & 87.1 & 12.9 & https://www.ajnsteelstock.co.uk/wp-content/uploads/2022/10/2022-Gender-Pay-Gap-Report.pdf & Courtney Bell (FD)               & 250 to 499   & A.J.N. STEELSTOCK LTD.                         & FALSE & 4/5/2023 0:00  & 10/11/2022 15:34\\\\\n\t2 & AB WORLD FOODS LIMITED                         &   764 & Weston Centre, 10 Grosvenor Street, London, W1K 4QY                                    & W1K 4QY  & 1400901 & 10890     & -8.6 & -12.3 &  10.3 & -20.8 & ⋯ & 33.7 & 44.6 & 55.4 & https://abworldfoods.com/documents/ABWF\\_Gender\\_Pay\\_Gap\\_Narrative\\_2022.pdf                 & Andy Mayhew (Managing Director)  & 250 to 499   & AB WORLD FOODS LIMITED                         & FALSE & 4/5/2023 0:00  & 9/30/2022 9:45  \\\\\n\t3 & ABACUS EMPLOYMENT SERVICES LIMITED             &   767 & 1 Chequers Road, Basingstoke, Hampshire, England, RG21 7PU                             & RG21 7PU & 2638307 & 78200     & -3.0 &   3.2 &    NA &    NA & ⋯ & 21.5 & 80.9 & 19.1 & http://www.abacus-employment.com                                                          & Phil James (Finance Manager)     & 250 to 499   & ABACUS EMPLOYMENT SERVICES LIMITED             & FALSE & 4/5/2023 0:00  & 4/13/2022 14:57 \\\\\n\t4 & Advisory, Conciliation and Arbitration Service &   496 & 8th Floor, Windsor House, 50 Victoria Street, London, London, United Kingdom, SW1H 0TL & SW1H 0TL &         & 1,\n84110 &  7.2 &   6.1 &  19.4 &   9.9 & ⋯ & 63.2 & 51.8 & 48.2 & https://www.acas.org.uk/acas-gender-pay-report/2021-to-2022-report                        &                                  & 1000 to 4999 & Advisory, Conciliation and Arbitration Service & FALSE & 3/31/2023 0:00 & 8/1/2022 13:15  \\\\\n\t5 & AFH INDEPENDENT FINANCIAL SERVICES LIMITED     & 19364 & Afh House Buntsford Drive, Stoke Heath, Bromsgrove, Worcestershire, B60 4JE            & B60 4JE  & 4049180 & 64999     & 25.0 &  32.0 & -33.0 &  69.0 & ⋯ & 59.0 & 60.0 & 40.0 &                                                                                           & Alison Court (Senior HR Adviser) & 500 to 999   & AFH INDEPENDENT FINANCIAL SERVICES LIMITED     & FALSE & 4/5/2023 0:00  & 5/20/2022 11:24 \\\\\n\\end{tabular}\n",
            "text/plain": [
              "  EmployerName                                   EmployerId\n",
              "1 A.J.N. STEELSTOCK LTD.                         14835     \n",
              "2 AB WORLD FOODS LIMITED                           764     \n",
              "3 ABACUS EMPLOYMENT SERVICES LIMITED               767     \n",
              "4 Advisory, Conciliation and Arbitration Service   496     \n",
              "5 AFH INDEPENDENT FINANCIAL SERVICES LIMITED     19364     \n",
              "  Address                                                                               \n",
              "1 Icknield Way, Kentford, Newmarket, Suffolk, CB8 7QT                                   \n",
              "2 Weston Centre, 10 Grosvenor Street, London, W1K 4QY                                   \n",
              "3 1 Chequers Road, Basingstoke, Hampshire, England, RG21 7PU                            \n",
              "4 8th Floor, Windsor House, 50 Victoria Street, London, London, United Kingdom, SW1H 0TL\n",
              "5 Afh House Buntsford Drive, Stoke Heath, Bromsgrove, Worcestershire, B60 4JE           \n",
              "  PostCode CompanyNumber SicCodes  DiffMeanHourlyPercent\n",
              "1 CB8 7QT  689647        46720     16.2                 \n",
              "2 W1K 4QY  1400901       10890     -8.6                 \n",
              "3 RG21 7PU 2638307       78200     -3.0                 \n",
              "4 SW1H 0TL               1,\\n84110  7.2                 \n",
              "5 B60 4JE  4049180       64999     25.0                 \n",
              "  DiffMedianHourlyPercent DiffMeanBonusPercent DiffMedianBonusPercent ⋯\n",
              "1   3.3                   -20.0                  0.0                  ⋯\n",
              "2 -12.3                    10.3                -20.8                  ⋯\n",
              "3   3.2                      NA                   NA                  ⋯\n",
              "4   6.1                    19.4                  9.9                  ⋯\n",
              "5  32.0                   -33.0                 69.0                  ⋯\n",
              "  FemaleUpperMiddleQuartile MaleTopQuartile FemaleTopQuartile\n",
              "1 10.8                      87.1            12.9             \n",
              "2 33.7                      44.6            55.4             \n",
              "3 21.5                      80.9            19.1             \n",
              "4 63.2                      51.8            48.2             \n",
              "5 59.0                      60.0            40.0             \n",
              "  CompanyLinkToGPGInfo                                                                     \n",
              "1 https://www.ajnsteelstock.co.uk/wp-content/uploads/2022/10/2022-Gender-Pay-Gap-Report.pdf\n",
              "2 https://abworldfoods.com/documents/ABWF_Gender_Pay_Gap_Narrative_2022.pdf                \n",
              "3 http://www.abacus-employment.com                                                         \n",
              "4 https://www.acas.org.uk/acas-gender-pay-report/2021-to-2022-report                       \n",
              "5                                                                                          \n",
              "  ResponsiblePerson                EmployerSize\n",
              "1 Courtney Bell (FD)               250 to 499  \n",
              "2 Andy Mayhew (Managing Director)  250 to 499  \n",
              "3 Phil James (Finance Manager)     250 to 499  \n",
              "4                                  1000 to 4999\n",
              "5 Alison Court (Senior HR Adviser) 500 to 999  \n",
              "  CurrentName                                    SubmittedAfterTheDeadline\n",
              "1 A.J.N. STEELSTOCK LTD.                         FALSE                    \n",
              "2 AB WORLD FOODS LIMITED                         FALSE                    \n",
              "3 ABACUS EMPLOYMENT SERVICES LIMITED             FALSE                    \n",
              "4 Advisory, Conciliation and Arbitration Service FALSE                    \n",
              "5 AFH INDEPENDENT FINANCIAL SERVICES LIMITED     FALSE                    \n",
              "  DueDate        DateSubmitted   \n",
              "1 4/5/2023 0:00  10/11/2022 15:34\n",
              "2 4/5/2023 0:00  9/30/2022 9:45  \n",
              "3 4/5/2023 0:00  4/13/2022 14:57 \n",
              "4 3/31/2023 0:00 8/1/2022 13:15  \n",
              "5 4/5/2023 0:00  5/20/2022 11:24 "
            ]
          },
          "metadata": {}
        }
      ]
    },
    {
      "cell_type": "code",
      "source": [
        "colnames(paygap)"
      ],
      "metadata": {
        "id": "WL5L2iq1Y3ZC",
        "colab": {
          "base_uri": "https://localhost:8080/",
          "height": 69
        },
        "outputId": "b681fd4d-1012-44bb-9aa8-8da226838cc3"
      },
      "execution_count": 105,
      "outputs": [
        {
          "output_type": "display_data",
          "data": {
            "text/html": [
              "<style>\n",
              ".list-inline {list-style: none; margin:0; padding: 0}\n",
              ".list-inline>li {display: inline-block}\n",
              ".list-inline>li:not(:last-child)::after {content: \"\\00b7\"; padding: 0 .5ex}\n",
              "</style>\n",
              "<ol class=list-inline><li>'EmployerName'</li><li>'EmployerId'</li><li>'Address'</li><li>'PostCode'</li><li>'CompanyNumber'</li><li>'SicCodes'</li><li>'DiffMeanHourlyPercent'</li><li>'DiffMedianHourlyPercent'</li><li>'DiffMeanBonusPercent'</li><li>'DiffMedianBonusPercent'</li><li>'MaleBonusPercent'</li><li>'FemaleBonusPercent'</li><li>'MaleLowerQuartile'</li><li>'FemaleLowerQuartile'</li><li>'MaleLowerMiddleQuartile'</li><li>'FemaleLowerMiddleQuartile'</li><li>'MaleUpperMiddleQuartile'</li><li>'FemaleUpperMiddleQuartile'</li><li>'MaleTopQuartile'</li><li>'FemaleTopQuartile'</li><li>'CompanyLinkToGPGInfo'</li><li>'ResponsiblePerson'</li><li>'EmployerSize'</li><li>'CurrentName'</li><li>'SubmittedAfterTheDeadline'</li><li>'DueDate'</li><li>'DateSubmitted'</li></ol>\n"
            ],
            "text/markdown": "1. 'EmployerName'\n2. 'EmployerId'\n3. 'Address'\n4. 'PostCode'\n5. 'CompanyNumber'\n6. 'SicCodes'\n7. 'DiffMeanHourlyPercent'\n8. 'DiffMedianHourlyPercent'\n9. 'DiffMeanBonusPercent'\n10. 'DiffMedianBonusPercent'\n11. 'MaleBonusPercent'\n12. 'FemaleBonusPercent'\n13. 'MaleLowerQuartile'\n14. 'FemaleLowerQuartile'\n15. 'MaleLowerMiddleQuartile'\n16. 'FemaleLowerMiddleQuartile'\n17. 'MaleUpperMiddleQuartile'\n18. 'FemaleUpperMiddleQuartile'\n19. 'MaleTopQuartile'\n20. 'FemaleTopQuartile'\n21. 'CompanyLinkToGPGInfo'\n22. 'ResponsiblePerson'\n23. 'EmployerSize'\n24. 'CurrentName'\n25. 'SubmittedAfterTheDeadline'\n26. 'DueDate'\n27. 'DateSubmitted'\n\n\n",
            "text/latex": "\\begin{enumerate*}\n\\item 'EmployerName'\n\\item 'EmployerId'\n\\item 'Address'\n\\item 'PostCode'\n\\item 'CompanyNumber'\n\\item 'SicCodes'\n\\item 'DiffMeanHourlyPercent'\n\\item 'DiffMedianHourlyPercent'\n\\item 'DiffMeanBonusPercent'\n\\item 'DiffMedianBonusPercent'\n\\item 'MaleBonusPercent'\n\\item 'FemaleBonusPercent'\n\\item 'MaleLowerQuartile'\n\\item 'FemaleLowerQuartile'\n\\item 'MaleLowerMiddleQuartile'\n\\item 'FemaleLowerMiddleQuartile'\n\\item 'MaleUpperMiddleQuartile'\n\\item 'FemaleUpperMiddleQuartile'\n\\item 'MaleTopQuartile'\n\\item 'FemaleTopQuartile'\n\\item 'CompanyLinkToGPGInfo'\n\\item 'ResponsiblePerson'\n\\item 'EmployerSize'\n\\item 'CurrentName'\n\\item 'SubmittedAfterTheDeadline'\n\\item 'DueDate'\n\\item 'DateSubmitted'\n\\end{enumerate*}\n",
            "text/plain": [
              " [1] \"EmployerName\"              \"EmployerId\"               \n",
              " [3] \"Address\"                   \"PostCode\"                 \n",
              " [5] \"CompanyNumber\"             \"SicCodes\"                 \n",
              " [7] \"DiffMeanHourlyPercent\"     \"DiffMedianHourlyPercent\"  \n",
              " [9] \"DiffMeanBonusPercent\"      \"DiffMedianBonusPercent\"   \n",
              "[11] \"MaleBonusPercent\"          \"FemaleBonusPercent\"       \n",
              "[13] \"MaleLowerQuartile\"         \"FemaleLowerQuartile\"      \n",
              "[15] \"MaleLowerMiddleQuartile\"   \"FemaleLowerMiddleQuartile\"\n",
              "[17] \"MaleUpperMiddleQuartile\"   \"FemaleUpperMiddleQuartile\"\n",
              "[19] \"MaleTopQuartile\"           \"FemaleTopQuartile\"        \n",
              "[21] \"CompanyLinkToGPGInfo\"      \"ResponsiblePerson\"        \n",
              "[23] \"EmployerSize\"              \"CurrentName\"              \n",
              "[25] \"SubmittedAfterTheDeadline\" \"DueDate\"                  \n",
              "[27] \"DateSubmitted\"            "
            ]
          },
          "metadata": {}
        }
      ]
    },
    {
      "cell_type": "code",
      "source": [
        "dim(paygap)"
      ],
      "metadata": {
        "id": "zP1w1J6vY3WF",
        "colab": {
          "base_uri": "https://localhost:8080/",
          "height": 34
        },
        "outputId": "33aae97a-92bb-43cf-a8a0-bb3c2e594648"
      },
      "execution_count": 106,
      "outputs": [
        {
          "output_type": "display_data",
          "data": {
            "text/html": [
              "<style>\n",
              ".list-inline {list-style: none; margin:0; padding: 0}\n",
              ".list-inline>li {display: inline-block}\n",
              ".list-inline>li:not(:last-child)::after {content: \"\\00b7\"; padding: 0 .5ex}\n",
              "</style>\n",
              "<ol class=list-inline><li>350</li><li>27</li></ol>\n"
            ],
            "text/markdown": "1. 350\n2. 27\n\n\n",
            "text/latex": "\\begin{enumerate*}\n\\item 350\n\\item 27\n\\end{enumerate*}\n",
            "text/plain": [
              "[1] 350  27"
            ]
          },
          "metadata": {}
        }
      ]
    },
    {
      "cell_type": "code",
      "source": [
        "class(paygap)"
      ],
      "metadata": {
        "id": "5k3RIyWBY3UB",
        "colab": {
          "base_uri": "https://localhost:8080/",
          "height": 34
        },
        "outputId": "a2088949-11c5-4788-c64f-d12867bb365a"
      },
      "execution_count": 107,
      "outputs": [
        {
          "output_type": "display_data",
          "data": {
            "text/html": [
              "'data.frame'"
            ],
            "text/markdown": "'data.frame'",
            "text/latex": "'data.frame'",
            "text/plain": [
              "[1] \"data.frame\""
            ]
          },
          "metadata": {}
        }
      ]
    },
    {
      "cell_type": "code",
      "source": [
        "class(paygap$DiffMeanHourlyPercent)"
      ],
      "metadata": {
        "id": "_uAoMlWEY3Q1",
        "colab": {
          "base_uri": "https://localhost:8080/",
          "height": 34
        },
        "outputId": "21bd656d-6291-4f9f-be47-a41c213312ac"
      },
      "execution_count": 108,
      "outputs": [
        {
          "output_type": "display_data",
          "data": {
            "text/html": [
              "'numeric'"
            ],
            "text/markdown": "'numeric'",
            "text/latex": "'numeric'",
            "text/plain": [
              "[1] \"numeric\""
            ]
          },
          "metadata": {}
        }
      ]
    },
    {
      "cell_type": "code",
      "source": [
        "cardiacdata <- read.csv('/content/data/normtemp.csv', header = TRUE)"
      ],
      "metadata": {
        "id": "Gf0mLB_DY3OB"
      },
      "execution_count": 109,
      "outputs": []
    },
    {
      "cell_type": "code",
      "source": [
        "# extract element in 1st row and 3th column\n",
        "cardiacdata[1,3]"
      ],
      "metadata": {
        "id": "2kMLWg0wY3Kf",
        "colab": {
          "base_uri": "https://localhost:8080/",
          "height": 34
        },
        "outputId": "750397f6-c11a-4001-bd0b-11a20b89dea1"
      },
      "execution_count": 110,
      "outputs": [
        {
          "output_type": "display_data",
          "data": {
            "text/html": [
              "70"
            ],
            "text/markdown": "70",
            "text/latex": "70",
            "text/plain": [
              "[1] 70"
            ]
          },
          "metadata": {}
        }
      ]
    },
    {
      "cell_type": "code",
      "source": [
        "# extract rows 5-7 from columns 1-3\n",
        "cardiacdata[5:7,1:3]"
      ],
      "metadata": {
        "id": "UABCLq1ekNUE",
        "colab": {
          "base_uri": "https://localhost:8080/",
          "height": 192
        },
        "outputId": "43445749-eb72-478e-df92-6f5f668570a7"
      },
      "execution_count": 111,
      "outputs": [
        {
          "output_type": "display_data",
          "data": {
            "text/html": [
              "<table class=\"dataframe\">\n",
              "<caption>A data.frame: 3 × 3</caption>\n",
              "<thead>\n",
              "\t<tr><th></th><th scope=col>bodytemp</th><th scope=col>sex</th><th scope=col>heartrate</th></tr>\n",
              "\t<tr><th></th><th scope=col>&lt;dbl&gt;</th><th scope=col>&lt;chr&gt;</th><th scope=col>&lt;int&gt;</th></tr>\n",
              "</thead>\n",
              "<tbody>\n",
              "\t<tr><th scope=row>5</th><td>36.2</td><td>male</td><td>73</td></tr>\n",
              "\t<tr><th scope=row>6</th><td>36.2</td><td>male</td><td>75</td></tr>\n",
              "\t<tr><th scope=row>7</th><td>36.2</td><td>male</td><td>82</td></tr>\n",
              "</tbody>\n",
              "</table>\n"
            ],
            "text/markdown": "\nA data.frame: 3 × 3\n\n| <!--/--> | bodytemp &lt;dbl&gt; | sex &lt;chr&gt; | heartrate &lt;int&gt; |\n|---|---|---|---|\n| 5 | 36.2 | male | 73 |\n| 6 | 36.2 | male | 75 |\n| 7 | 36.2 | male | 82 |\n\n",
            "text/latex": "A data.frame: 3 × 3\n\\begin{tabular}{r|lll}\n  & bodytemp & sex & heartrate\\\\\n  & <dbl> & <chr> & <int>\\\\\n\\hline\n\t5 & 36.2 & male & 73\\\\\n\t6 & 36.2 & male & 75\\\\\n\t7 & 36.2 & male & 82\\\\\n\\end{tabular}\n",
            "text/plain": [
              "  bodytemp sex  heartrate\n",
              "5 36.2     male 73       \n",
              "6 36.2     male 75       \n",
              "7 36.2     male 82       "
            ]
          },
          "metadata": {}
        }
      ]
    },
    {
      "cell_type": "code",
      "source": [
        "# extract column 'bodytemp' and assign to new object 'temperatures'\n",
        "temperatures <- cardiacdata$bodytemp"
      ],
      "metadata": {
        "id": "5gNgEhh4Y3E3"
      },
      "execution_count": 112,
      "outputs": []
    },
    {
      "cell_type": "code",
      "source": [
        "# select columns 'gender' and 'heartrate' and assign to new object 'heartrates'\n",
        "heartrates <- select(cardiacdata, sex, heartrate)"
      ],
      "metadata": {
        "id": "59cMhpV9Y27l"
      },
      "execution_count": 113,
      "outputs": []
    },
    {
      "cell_type": "code",
      "source": [
        "## append variable names with their respective units\n",
        "# rename 'bodytemp' to 'bodytemp_degF'\n",
        "cardiacdata <- rename(cardiacdata, bodytemp_degF = bodytemp)\n",
        "\n",
        "# rename 'heartrate' to 'heartrate_bpm'\n",
        "cardiacdata <- rename(cardiacdata, heartrate_bpm = heartrate)"
      ],
      "metadata": {
        "id": "blh55Vf2kihQ"
      },
      "execution_count": 114,
      "outputs": []
    },
    {
      "cell_type": "code",
      "source": [
        "head(cardiacdata)"
      ],
      "metadata": {
        "id": "NTM2Rbc7kieP",
        "colab": {
          "base_uri": "https://localhost:8080/",
          "height": 286
        },
        "outputId": "fd6e766e-1537-4fde-fbb1-f406e1c17e48"
      },
      "execution_count": 115,
      "outputs": [
        {
          "output_type": "display_data",
          "data": {
            "text/html": [
              "<table class=\"dataframe\">\n",
              "<caption>A data.frame: 6 × 3</caption>\n",
              "<thead>\n",
              "\t<tr><th></th><th scope=col>bodytemp_degF</th><th scope=col>sex</th><th scope=col>heartrate_bpm</th></tr>\n",
              "\t<tr><th></th><th scope=col>&lt;dbl&gt;</th><th scope=col>&lt;chr&gt;</th><th scope=col>&lt;int&gt;</th></tr>\n",
              "</thead>\n",
              "<tbody>\n",
              "\t<tr><th scope=row>1</th><td>35.7</td><td>male</td><td>70</td></tr>\n",
              "\t<tr><th scope=row>2</th><td>35.9</td><td>male</td><td>71</td></tr>\n",
              "\t<tr><th scope=row>3</th><td>36.1</td><td>male</td><td>74</td></tr>\n",
              "\t<tr><th scope=row>4</th><td>36.1</td><td>male</td><td>80</td></tr>\n",
              "\t<tr><th scope=row>5</th><td>36.2</td><td>male</td><td>73</td></tr>\n",
              "\t<tr><th scope=row>6</th><td>36.2</td><td>male</td><td>75</td></tr>\n",
              "</tbody>\n",
              "</table>\n"
            ],
            "text/markdown": "\nA data.frame: 6 × 3\n\n| <!--/--> | bodytemp_degF &lt;dbl&gt; | sex &lt;chr&gt; | heartrate_bpm &lt;int&gt; |\n|---|---|---|---|\n| 1 | 35.7 | male | 70 |\n| 2 | 35.9 | male | 71 |\n| 3 | 36.1 | male | 74 |\n| 4 | 36.1 | male | 80 |\n| 5 | 36.2 | male | 73 |\n| 6 | 36.2 | male | 75 |\n\n",
            "text/latex": "A data.frame: 6 × 3\n\\begin{tabular}{r|lll}\n  & bodytemp\\_degF & sex & heartrate\\_bpm\\\\\n  & <dbl> & <chr> & <int>\\\\\n\\hline\n\t1 & 35.7 & male & 70\\\\\n\t2 & 35.9 & male & 71\\\\\n\t3 & 36.1 & male & 74\\\\\n\t4 & 36.1 & male & 80\\\\\n\t5 & 36.2 & male & 73\\\\\n\t6 & 36.2 & male & 75\\\\\n\\end{tabular}\n",
            "text/plain": [
              "  bodytemp_degF sex  heartrate_bpm\n",
              "1 35.7          male 70           \n",
              "2 35.9          male 71           \n",
              "3 36.1          male 74           \n",
              "4 36.1          male 80           \n",
              "5 36.2          male 73           \n",
              "6 36.2          male 75           "
            ]
          },
          "metadata": {}
        }
      ]
    },
    {
      "cell_type": "code",
      "source": [
        "# add new column with body temperature in degrees celsius\n",
        "cardiacdata <- mutate(cardiacdata, bodytemp_degC = (bodytemp_degF - 32)*(5/9))"
      ],
      "metadata": {
        "id": "JiXyDoWekiZc"
      },
      "execution_count": 116,
      "outputs": []
    },
    {
      "cell_type": "code",
      "source": [
        "# change values in gender column to read \"Female\" and \"Male\" instead of 1 and 2\n",
        "cardiacdata <- mutate(cardiacdata, sex = ifelse(sex == 1, 'Female', \n",
        "                                            ifelse(sex == 2, 'Male', NA)))"
      ],
      "metadata": {
        "id": "M7tYHjVJkiUg"
      },
      "execution_count": 117,
      "outputs": []
    },
    {
      "cell_type": "code",
      "source": [
        "head(cardiacdata)"
      ],
      "metadata": {
        "id": "BPaA_RpbkiQ4",
        "colab": {
          "base_uri": "https://localhost:8080/",
          "height": 286
        },
        "outputId": "923e2379-ea6f-4621-c7e4-f8b03ef7cf0c"
      },
      "execution_count": 118,
      "outputs": [
        {
          "output_type": "display_data",
          "data": {
            "text/html": [
              "<table class=\"dataframe\">\n",
              "<caption>A data.frame: 6 × 4</caption>\n",
              "<thead>\n",
              "\t<tr><th></th><th scope=col>bodytemp_degF</th><th scope=col>sex</th><th scope=col>heartrate_bpm</th><th scope=col>bodytemp_degC</th></tr>\n",
              "\t<tr><th></th><th scope=col>&lt;dbl&gt;</th><th scope=col>&lt;lgl&gt;</th><th scope=col>&lt;int&gt;</th><th scope=col>&lt;dbl&gt;</th></tr>\n",
              "</thead>\n",
              "<tbody>\n",
              "\t<tr><th scope=row>1</th><td>35.7</td><td>NA</td><td>70</td><td>2.055556</td></tr>\n",
              "\t<tr><th scope=row>2</th><td>35.9</td><td>NA</td><td>71</td><td>2.166667</td></tr>\n",
              "\t<tr><th scope=row>3</th><td>36.1</td><td>NA</td><td>74</td><td>2.277778</td></tr>\n",
              "\t<tr><th scope=row>4</th><td>36.1</td><td>NA</td><td>80</td><td>2.277778</td></tr>\n",
              "\t<tr><th scope=row>5</th><td>36.2</td><td>NA</td><td>73</td><td>2.333333</td></tr>\n",
              "\t<tr><th scope=row>6</th><td>36.2</td><td>NA</td><td>75</td><td>2.333333</td></tr>\n",
              "</tbody>\n",
              "</table>\n"
            ],
            "text/markdown": "\nA data.frame: 6 × 4\n\n| <!--/--> | bodytemp_degF &lt;dbl&gt; | sex &lt;lgl&gt; | heartrate_bpm &lt;int&gt; | bodytemp_degC &lt;dbl&gt; |\n|---|---|---|---|---|\n| 1 | 35.7 | NA | 70 | 2.055556 |\n| 2 | 35.9 | NA | 71 | 2.166667 |\n| 3 | 36.1 | NA | 74 | 2.277778 |\n| 4 | 36.1 | NA | 80 | 2.277778 |\n| 5 | 36.2 | NA | 73 | 2.333333 |\n| 6 | 36.2 | NA | 75 | 2.333333 |\n\n",
            "text/latex": "A data.frame: 6 × 4\n\\begin{tabular}{r|llll}\n  & bodytemp\\_degF & sex & heartrate\\_bpm & bodytemp\\_degC\\\\\n  & <dbl> & <lgl> & <int> & <dbl>\\\\\n\\hline\n\t1 & 35.7 & NA & 70 & 2.055556\\\\\n\t2 & 35.9 & NA & 71 & 2.166667\\\\\n\t3 & 36.1 & NA & 74 & 2.277778\\\\\n\t4 & 36.1 & NA & 80 & 2.277778\\\\\n\t5 & 36.2 & NA & 73 & 2.333333\\\\\n\t6 & 36.2 & NA & 75 & 2.333333\\\\\n\\end{tabular}\n",
            "text/plain": [
              "  bodytemp_degF sex heartrate_bpm bodytemp_degC\n",
              "1 35.7          NA  70            2.055556     \n",
              "2 35.9          NA  71            2.166667     \n",
              "3 36.1          NA  74            2.277778     \n",
              "4 36.1          NA  80            2.277778     \n",
              "5 36.2          NA  73            2.333333     \n",
              "6 36.2          NA  75            2.333333     "
            ]
          },
          "metadata": {}
        }
      ]
    },
    {
      "cell_type": "code",
      "source": [
        "# filter for data from female subjects only\n",
        "cardiacdata_female <- filter(cardiacdata, sex == 'Female')"
      ],
      "metadata": {
        "id": "CJ0QDyNZkh-r"
      },
      "execution_count": 119,
      "outputs": []
    },
    {
      "cell_type": "code",
      "source": [
        "f(x)\n",
        "g(x)\n",
        "h(x)"
      ],
      "metadata": {
        "id": "fAiRXdezy_vt"
      },
      "execution_count": null,
      "outputs": []
    },
    {
      "cell_type": "code",
      "source": [
        "x %>% f() %>% g() %>% h()"
      ],
      "metadata": {
        "id": "gHZRtw0Py3tM"
      },
      "execution_count": null,
      "outputs": []
    },
    {
      "cell_type": "code",
      "source": [
        "cardiacdata <- cardiacdata %>%\n",
        "  filter(sex == 'Female') %>%\n",
        "  select(sex) %>%\n",
        "  mutate(bodytemp_Kelvin = bodytemp_degC + 273)"
      ],
      "metadata": {
        "id": "pPxpLCVRy8Pw"
      },
      "execution_count": null,
      "outputs": []
    },
    {
      "cell_type": "code",
      "source": [
        "cardiacdata_bysex <- cardiacdata %>%\n",
        "  group_by(sex) %>%                                  # group by 'gender'\n",
        "  summarize(avg_bodytemp_degF = mean(bodytemp_degF),    # aggregate using means\n",
        "            avg_bodytemp_degC = mean(bodytemp_degC), \n",
        "            avg_heartrate_bpm = mean(heartrate_bpm))  "
      ],
      "metadata": {
        "id": "C4P6LSnxlABX"
      },
      "execution_count": 124,
      "outputs": []
    },
    {
      "cell_type": "code",
      "source": [
        "some_numbers <- c(4,5,6,7,NA,8)\n",
        "\n",
        "mean(some_numbers)"
      ],
      "metadata": {
        "id": "-SF1wfSfk_-T",
        "colab": {
          "base_uri": "https://localhost:8080/",
          "height": 34
        },
        "outputId": "3b43f05c-ab48-43b8-da5d-484b6830c0c7"
      },
      "execution_count": 125,
      "outputs": [
        {
          "output_type": "display_data",
          "data": {
            "text/html": [
              "&lt;NA&gt;"
            ],
            "text/markdown": "&lt;NA&gt;",
            "text/latex": "<NA>",
            "text/plain": [
              "[1] NA"
            ]
          },
          "metadata": {}
        }
      ]
    },
    {
      "cell_type": "code",
      "source": [
        "mean(some_numbers, na.rm = TRUE)"
      ],
      "metadata": {
        "id": "U4AOIE_9k_66",
        "colab": {
          "base_uri": "https://localhost:8080/",
          "height": 34
        },
        "outputId": "cab6e275-a04a-4aff-9124-2d8c84796d96"
      },
      "execution_count": 126,
      "outputs": [
        {
          "output_type": "display_data",
          "data": {
            "text/html": [
              "6"
            ],
            "text/markdown": "6",
            "text/latex": "6",
            "text/plain": [
              "[1] 6"
            ]
          },
          "metadata": {}
        }
      ]
    },
    {
      "cell_type": "code",
      "source": [
        "ggplot(data = cardiacdata, mapping = aes(x = bodytemp_degC)) + \n",
        "  geom_histogram(bins = 20)"
      ],
      "metadata": {
        "id": "eAF1ad1hk_1n",
        "colab": {
          "base_uri": "https://localhost:8080/",
          "height": 437
        },
        "outputId": "c446b95c-2838-4071-de1d-144f632dfc78"
      },
      "execution_count": 92,
      "outputs": [
        {
          "output_type": "display_data",
          "data": {
            "text/plain": [
              "plot without title"
            ],
            "image/png": "[encoded data removed]"
          },
          "metadata": {
            "image/png": {
              "width": 420,
              "height": 420
            }
          }
        }
      ]
    },
    {
      "cell_type": "code",
      "source": [
        "ggplot(data = cardiacdata, mapping = aes(x = bodytemp_degC)) + \n",
        "  geom_histogram(bins = 20, aes(y = ..density..))"
      ],
      "metadata": {
        "id": "ao8gzLhFmdtB",
        "colab": {
          "base_uri": "https://localhost:8080/",
          "height": 437
        },
        "outputId": "6c9b4f22-da42-45d0-af30-ee2343c875e6"
      },
      "execution_count": 91,
      "outputs": [
        {
          "output_type": "display_data",
          "data": {
            "text/plain": [
              "plot without title"
            ],
            "image/png": "[encoded data removed]"
          },
          "metadata": {
            "image/png": {
              "width": 420,
              "height": 420
            }
          }
        }
      ]
    },
    {
      "cell_type": "code",
      "source": [
        "ggplot(data = cardiacdata, mapping = aes(x = bodytemp_degC)) + \n",
        "  geom_histogram(bins = 20, aes(y = ..density..), fill = 'lightblue') +\n",
        "  xlab('body temperature (celsius)') +\n",
        "  ggtitle('distribution of body temperatures') +\n",
        "  theme_light()"
      ],
      "metadata": {
        "id": "ob9ZyxAJmdqS",
        "colab": {
          "base_uri": "https://localhost:8080/",
          "height": 437
        },
        "outputId": "51a62c5c-4801-4317-abeb-b0b303b04462"
      },
      "execution_count": 90,
      "outputs": [
        {
          "output_type": "display_data",
          "data": {
            "text/plain": [
              "plot without title"
            ],
            "image/png": "[encoded data removed]"
          },
          "metadata": {
            "image/png": {
              "width": 420,
              "height": 420
            }
          }
        }
      ]
    },
    {
      "cell_type": "code",
      "source": [
        "ggplot(data = cardiacdata, mapping = aes(x = heartrate_bpm, y = bodytemp_degC)) + \n",
        "  geom_point() +\n",
        "  theme_light()"
      ],
      "metadata": {
        "id": "mFbYmnV8mdlF",
        "colab": {
          "base_uri": "https://localhost:8080/",
          "height": 437
        },
        "outputId": "71f2e47c-9984-40a1-838b-41ee1cf5b812"
      },
      "execution_count": 127,
      "outputs": [
        {
          "output_type": "display_data",
          "data": {
            "text/plain": [
              "plot without title"
            ],
            "image/png": "[encoded data removed]"
          },
          "metadata": {
            "image/png": {
              "width": 420,
              "height": 420
            }
          }
        }
      ]
    },
    {
      "cell_type": "code",
      "source": [
        "ggplot(data = cardiacdata, mapping = aes(x = heartrate_bpm, y = bodytemp_degC, color = sex)) + \n",
        "  geom_point() +\n",
        "  theme_light()"
      ],
      "metadata": {
        "id": "U9OXGX5Lmdig",
        "colab": {
          "base_uri": "https://localhost:8080/"
        },
        "outputId": "387d78de-242a-4039-d9c5-fc9b6e0549ef"
      },
      "execution_count": 130,
      "outputs": [
        {
          "output_type": "stream",
          "name": "stderr",
          "text": [
            "ERROR while rich displaying an object: Error: Must request at least one colour from a hue palette.\n",
            "\n",
            "Traceback:\n",
            "1. tryCatch(withCallingHandlers({\n",
            " .     if (!mime %in% names(repr::mime2repr)) \n",
            " .         stop(\"No repr_* for mimetype \", mime, \" in repr::mime2repr\")\n",
            " .     rpr <- repr::mime2repr[[mime]](obj)\n",
            " .     if (is.null(rpr)) \n",
            " .         return(NULL)\n",
            " .     prepare_content(is.raw(rpr), rpr)\n",
            " . }, error = error_handler), error = outer_handler)\n",
            "2. tryCatchList(expr, classes, parentenv, handlers)\n",
            "3. tryCatchOne(expr, names, parentenv, handlers[[1L]])\n",
            "4. doTryCatch(return(expr), name, parentenv, handler)\n",
            "5. withCallingHandlers({\n",
            " .     if (!mime %in% names(repr::mime2repr)) \n",
            " .         stop(\"No repr_* for mimetype \", mime, \" in repr::mime2repr\")\n",
            " .     rpr <- repr::mime2repr[[mime]](obj)\n",
            " .     if (is.null(rpr)) \n",
            " .         return(NULL)\n",
            " .     prepare_content(is.raw(rpr), rpr)\n",
            " . }, error = error_handler)\n",
            "6. repr::mime2repr[[mime]](obj)\n",
            "7. repr_text.default(obj)\n",
            "8. paste(capture.output(print(obj)), collapse = \"\\n\")\n",
            "9. capture.output(print(obj))\n",
            "10. withVisible(...elt(i))\n",
            "11. print(obj)\n",
            "12. print.ggplot(obj)\n",
            "13. ggplot_build(x)\n",
            "14. ggplot_build.ggplot(x)\n",
            "15. lapply(data, scales_map_df, scales = npscales)\n",
            "16. FUN(X[[i]], ...)\n",
            "17. unlist(lapply(scales$scales, function(scale) scale$map_df(df = df)), \n",
            "  .     recursive = FALSE)\n",
            "18. lapply(scales$scales, function(scale) scale$map_df(df = df))\n",
            "19. FUN(X[[i]], ...)\n",
            "20. scale$map_df(df = df)\n",
            "21. f(..., self = self)\n",
            "22. lapply(aesthetics, function(j) self$map(df[[j]]))\n",
            "23. FUN(X[[i]], ...)\n",
            "24. self$map(df[[j]])\n",
            "25. f(..., self = self)\n",
            "26. self$palette(n)\n",
            "27. f(...)\n",
            "28. stop(\"Must request at least one colour from a hue palette.\", \n",
            "  .     call. = FALSE)\n"
          ]
        }
      ]
    },
    {
      "cell_type": "code",
      "source": [
        "ggplot(data = cardiacdata, mapping = aes(x = gender, y = bodytemp_degC)) +\n",
        "  geom_boxplot() +\n",
        "  xlab('gender') +\n",
        "  ylab('body temperature (celsius)') +\n",
        "  theme_light()"
      ],
      "metadata": {
        "id": "nCvJRaJmmddR",
        "colab": {
          "base_uri": "https://localhost:8080/"
        },
        "outputId": "5552fca4-ce34-46cd-c5e6-07b8c19775e7"
      },
      "execution_count": 128,
      "outputs": [
        {
          "output_type": "stream",
          "name": "stderr",
          "text": [
            "ERROR while rich displaying an object: Error in FUN(X[[i]], ...): object 'gender' not found\n",
            "\n",
            "Traceback:\n",
            "1. tryCatch(withCallingHandlers({\n",
            " .     if (!mime %in% names(repr::mime2repr)) \n",
            " .         stop(\"No repr_* for mimetype \", mime, \" in repr::mime2repr\")\n",
            " .     rpr <- repr::mime2repr[[mime]](obj)\n",
            " .     if (is.null(rpr)) \n",
            " .         return(NULL)\n",
            " .     prepare_content(is.raw(rpr), rpr)\n",
            " . }, error = error_handler), error = outer_handler)\n",
            "2. tryCatchList(expr, classes, parentenv, handlers)\n",
            "3. tryCatchOne(expr, names, parentenv, handlers[[1L]])\n",
            "4. doTryCatch(return(expr), name, parentenv, handler)\n",
            "5. withCallingHandlers({\n",
            " .     if (!mime %in% names(repr::mime2repr)) \n",
            " .         stop(\"No repr_* for mimetype \", mime, \" in repr::mime2repr\")\n",
            " .     rpr <- repr::mime2repr[[mime]](obj)\n",
            " .     if (is.null(rpr)) \n",
            " .         return(NULL)\n",
            " .     prepare_content(is.raw(rpr), rpr)\n",
            " . }, error = error_handler)\n",
            "6. repr::mime2repr[[mime]](obj)\n",
            "7. repr_text.default(obj)\n",
            "8. paste(capture.output(print(obj)), collapse = \"\\n\")\n",
            "9. capture.output(print(obj))\n",
            "10. withVisible(...elt(i))\n",
            "11. print(obj)\n",
            "12. print.ggplot(obj)\n",
            "13. ggplot_build(x)\n",
            "14. ggplot_build.ggplot(x)\n",
            "15. by_layer(function(l, d) l$compute_aesthetics(d, plot))\n",
            "16. f(l = layers[[i]], d = data[[i]])\n",
            "17. l$compute_aesthetics(d, plot)\n",
            "18. f(..., self = self)\n",
            "19. scales_add_defaults(plot$scales, data, aesthetics, plot$plot_env)\n",
            "20. lapply(aesthetics[new_aesthetics], eval_tidy, data = data)\n",
            "21. FUN(X[[i]], ...)\n"
          ]
        }
      ]
    }
  ]
}